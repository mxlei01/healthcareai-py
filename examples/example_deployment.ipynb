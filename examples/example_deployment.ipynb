{
 "cells": [
  {
   "cell_type": "markdown",
   "metadata": {},
   "source": [
    "# Deployment\n",
    "\n",
    "We will be loading some data, performing prediction, saving the model, and pushing predictions onto a Microsoft SQL Server.\n",
    "\n",
    "A Microsoft SQL Server or SQLite is required, setup can be found here: https://github.com/HealthCatalyst/healthcareai-py/blob/master/docs/deploy.md\n",
    "\n",
    "If you are using the Microsoft SQL Server, then the docker container must be up and running, you can check the status of the docker container with the following command: `sudo docker ps`"
   ]
  },
  {
   "cell_type": "markdown",
   "metadata": {},
   "source": [
    "## Step 1: Create a model"
   ]
  },
  {
   "cell_type": "code",
   "execution_count": 1,
   "metadata": {},
   "outputs": [],
   "source": [
    "import sys\n",
    "import healthcareai\n",
    "\n",
    "import pandas as pd\n",
    "\n",
    "from healthcareai.supervised_model_trainer import SupervisedModelTrainer\n",
    "import healthcareai.common.database_connections as hcai_db\n",
    "import healthcareai.datasets as hcai_datasets\n",
    "import healthcareai.common.file_io_utilities as file_io_utilities\n",
    "import healthcareai.common.csv_loader as csv_loader"
   ]
  },
  {
   "cell_type": "markdown",
   "metadata": {},
   "source": [
    "Load diabetes dataset"
   ]
  },
  {
   "cell_type": "code",
   "execution_count": 2,
   "metadata": {
    "collapsed": true
   },
   "outputs": [],
   "source": [
    "dataframe = hcai_datasets.load_diabetes()"
   ]
  },
  {
   "cell_type": "markdown",
   "metadata": {},
   "source": [
    "We want to predict the SystolicBPNBR, and remove PatientID"
   ]
  },
  {
   "cell_type": "code",
   "execution_count": 3,
   "metadata": {},
   "outputs": [
    {
     "data": {
      "text/html": [
       "<div>\n",
       "<style>\n",
       "    .dataframe thead tr:only-child th {\n",
       "        text-align: right;\n",
       "    }\n",
       "\n",
       "    .dataframe thead th {\n",
       "        text-align: left;\n",
       "    }\n",
       "\n",
       "    .dataframe tbody tr th {\n",
       "        vertical-align: top;\n",
       "    }\n",
       "</style>\n",
       "<table border=\"1\" class=\"dataframe\">\n",
       "  <thead>\n",
       "    <tr style=\"text-align: right;\">\n",
       "      <th></th>\n",
       "      <th>PatientEncounterID</th>\n",
       "      <th>PatientID</th>\n",
       "      <th>SystolicBPNBR</th>\n",
       "      <th>LDLNBR</th>\n",
       "      <th>A1CNBR</th>\n",
       "      <th>GenderFLG</th>\n",
       "      <th>ThirtyDayReadmitFLG</th>\n",
       "    </tr>\n",
       "  </thead>\n",
       "  <tbody>\n",
       "    <tr>\n",
       "      <th>0</th>\n",
       "      <td>1</td>\n",
       "      <td>10001</td>\n",
       "      <td>167.0</td>\n",
       "      <td>195.0</td>\n",
       "      <td>4.2</td>\n",
       "      <td>M</td>\n",
       "      <td>N</td>\n",
       "    </tr>\n",
       "    <tr>\n",
       "      <th>1</th>\n",
       "      <td>2</td>\n",
       "      <td>10001</td>\n",
       "      <td>153.0</td>\n",
       "      <td>214.0</td>\n",
       "      <td>5.0</td>\n",
       "      <td>M</td>\n",
       "      <td>N</td>\n",
       "    </tr>\n",
       "    <tr>\n",
       "      <th>2</th>\n",
       "      <td>3</td>\n",
       "      <td>10001</td>\n",
       "      <td>170.0</td>\n",
       "      <td>191.0</td>\n",
       "      <td>4.0</td>\n",
       "      <td>M</td>\n",
       "      <td>N</td>\n",
       "    </tr>\n",
       "    <tr>\n",
       "      <th>3</th>\n",
       "      <td>4</td>\n",
       "      <td>10002</td>\n",
       "      <td>187.0</td>\n",
       "      <td>135.0</td>\n",
       "      <td>4.4</td>\n",
       "      <td>M</td>\n",
       "      <td>N</td>\n",
       "    </tr>\n",
       "    <tr>\n",
       "      <th>4</th>\n",
       "      <td>5</td>\n",
       "      <td>10002</td>\n",
       "      <td>188.0</td>\n",
       "      <td>125.0</td>\n",
       "      <td>4.3</td>\n",
       "      <td>M</td>\n",
       "      <td>N</td>\n",
       "    </tr>\n",
       "  </tbody>\n",
       "</table>\n",
       "</div>"
      ],
      "text/plain": [
       "   PatientEncounterID  PatientID  SystolicBPNBR  LDLNBR  A1CNBR GenderFLG  \\\n",
       "0                   1      10001          167.0   195.0     4.2         M   \n",
       "1                   2      10001          153.0   214.0     5.0         M   \n",
       "2                   3      10001          170.0   191.0     4.0         M   \n",
       "3                   4      10002          187.0   135.0     4.4         M   \n",
       "4                   5      10002          188.0   125.0     4.3         M   \n",
       "\n",
       "  ThirtyDayReadmitFLG  \n",
       "0                   N  \n",
       "1                   N  \n",
       "2                   N  \n",
       "3                   N  \n",
       "4                   N  "
      ]
     },
     "execution_count": 3,
     "metadata": {},
     "output_type": "execute_result"
    }
   ],
   "source": [
    "dataframe.head()"
   ]
  },
  {
   "cell_type": "code",
   "execution_count": 4,
   "metadata": {
    "collapsed": true
   },
   "outputs": [],
   "source": [
    "dataframe.drop(['PatientID'], axis=1, inplace=True)"
   ]
  },
  {
   "cell_type": "markdown",
   "metadata": {},
   "source": [
    "In order to train a classifier, you would need to use `SupervisedModelTrainer`, and it allows inputs parameters which can be found at: http://healthcareai-py.readthedocs.io/en/v1.0/training/#what-is-supervisedmodeltrainer"
   ]
  },
  {
   "cell_type": "code",
   "execution_count": 5,
   "metadata": {
    "collapsed": true
   },
   "outputs": [],
   "source": [
    "regression_trainer = SupervisedModelTrainer(\n",
    "    dataframe=dataframe,\n",
    "    predicted_column='SystolicBPNBR',\n",
    "    model_type='regression',\n",
    "    grain_column='PatientEncounterID',\n",
    "    impute=False,\n",
    "    verbose=False)"
   ]
  },
  {
   "cell_type": "markdown",
   "metadata": {},
   "source": [
    "The `SupervisedModelTrainer` has a pipeline that can clean the dataset, such as imputing values. After the data is cleaned, you can view the data with the `clean_dataframe.head()` function call."
   ]
  },
  {
   "cell_type": "code",
   "execution_count": 6,
   "metadata": {},
   "outputs": [
    {
     "name": "stdout",
     "output_type": "stream",
     "text": [
      "   SystolicBPNBR  LDLNBR  A1CNBR  GenderFLG.M  ThirtyDayReadmitFLG.Y\n",
      "0          167.0   195.0     4.2            1                      0\n",
      "1          153.0   214.0     5.0            1                      0\n",
      "2          170.0   191.0     4.0            1                      0\n",
      "3          187.0   135.0     4.4            1                      0\n",
      "4          188.0   125.0     4.3            1                      0\n"
     ]
    }
   ],
   "source": [
    "print(regression_trainer.clean_dataframe.head())"
   ]
  },
  {
   "cell_type": "markdown",
   "metadata": {},
   "source": [
    "Train a linear regression model on the dataset."
   ]
  },
  {
   "cell_type": "code",
   "execution_count": 7,
   "metadata": {},
   "outputs": [
    {
     "name": "stdout",
     "output_type": "stream",
     "text": [
      "\n",
      "Training Linear Regression\n",
      "LinearRegression Training Results:\n",
      "- Training time:\n",
      "    Trained the LinearRegression model in 0.01 seconds\n",
      "- Best hyperparameters found were:\n",
      "    N/A: No hyperparameter search was performed\n",
      "- LinearRegression performance metrics:\n",
      "    Mean Squared Error (MSE): 650.0561148063488\n",
      "    Mean Absolute Error (MAE): 21.69631005614234\n"
     ]
    }
   ],
   "source": [
    "trained_linear_model = regression_trainer.linear_regression()"
   ]
  },
  {
   "cell_type": "markdown",
   "metadata": {},
   "source": [
    "You can make predictions on a dataframe that contains the same columns as the dataframe used to train the model."
   ]
  },
  {
   "cell_type": "code",
   "execution_count": 8,
   "metadata": {},
   "outputs": [
    {
     "data": {
      "text/html": [
       "<div>\n",
       "<style>\n",
       "    .dataframe thead tr:only-child th {\n",
       "        text-align: right;\n",
       "    }\n",
       "\n",
       "    .dataframe thead th {\n",
       "        text-align: left;\n",
       "    }\n",
       "\n",
       "    .dataframe tbody tr th {\n",
       "        vertical-align: top;\n",
       "    }\n",
       "</style>\n",
       "<table border=\"1\" class=\"dataframe\">\n",
       "  <thead>\n",
       "    <tr style=\"text-align: right;\">\n",
       "      <th></th>\n",
       "      <th>PatientEncounterID</th>\n",
       "      <th>Prediction</th>\n",
       "    </tr>\n",
       "  </thead>\n",
       "  <tbody>\n",
       "    <tr>\n",
       "      <th>0</th>\n",
       "      <td>1</td>\n",
       "      <td>150.160964</td>\n",
       "    </tr>\n",
       "    <tr>\n",
       "      <th>1</th>\n",
       "      <td>2</td>\n",
       "      <td>149.312638</td>\n",
       "    </tr>\n",
       "    <tr>\n",
       "      <th>2</th>\n",
       "      <td>3</td>\n",
       "      <td>150.366739</td>\n",
       "    </tr>\n",
       "    <tr>\n",
       "      <th>3</th>\n",
       "      <td>4</td>\n",
       "      <td>150.493354</td>\n",
       "    </tr>\n",
       "    <tr>\n",
       "      <th>4</th>\n",
       "      <td>5</td>\n",
       "      <td>150.663512</td>\n",
       "    </tr>\n",
       "  </tbody>\n",
       "</table>\n",
       "</div>"
      ],
      "text/plain": [
       "   PatientEncounterID  Prediction\n",
       "0                   1  150.160964\n",
       "1                   2  149.312638\n",
       "2                   3  150.366739\n",
       "3                   4  150.493354\n",
       "4                   5  150.663512"
      ]
     },
     "execution_count": 8,
     "metadata": {},
     "output_type": "execute_result"
    }
   ],
   "source": [
    "trained_linear_model.make_predictions(dataframe).head()"
   ]
  },
  {
   "cell_type": "markdown",
   "metadata": {},
   "source": [
    "The `create_catalyst_dataframe` can create a dataframe that will be pushed to the Microsoft SQL server."
   ]
  },
  {
   "cell_type": "code",
   "execution_count": 9,
   "metadata": {},
   "outputs": [
    {
     "data": {
      "text/html": [
       "<div>\n",
       "<style>\n",
       "    .dataframe thead tr:only-child th {\n",
       "        text-align: right;\n",
       "    }\n",
       "\n",
       "    .dataframe thead th {\n",
       "        text-align: left;\n",
       "    }\n",
       "\n",
       "    .dataframe tbody tr th {\n",
       "        vertical-align: top;\n",
       "    }\n",
       "</style>\n",
       "<table border=\"1\" class=\"dataframe\">\n",
       "  <thead>\n",
       "    <tr style=\"text-align: right;\">\n",
       "      <th></th>\n",
       "      <th>PatientEncounterID</th>\n",
       "      <th>Factor1TXT</th>\n",
       "      <th>Factor2TXT</th>\n",
       "      <th>Factor3TXT</th>\n",
       "      <th>Prediction</th>\n",
       "      <th>BindingID</th>\n",
       "      <th>BindingNM</th>\n",
       "      <th>LastLoadDTS</th>\n",
       "    </tr>\n",
       "  </thead>\n",
       "  <tbody>\n",
       "    <tr>\n",
       "      <th>0</th>\n",
       "      <td>1</td>\n",
       "      <td>A1CNBR</td>\n",
       "      <td>LDLNBR</td>\n",
       "      <td>GenderFLG.M</td>\n",
       "      <td>150.160964</td>\n",
       "      <td>0</td>\n",
       "      <td>Python</td>\n",
       "      <td>2017-08-21 18:37:47.419</td>\n",
       "    </tr>\n",
       "    <tr>\n",
       "      <th>1</th>\n",
       "      <td>2</td>\n",
       "      <td>A1CNBR</td>\n",
       "      <td>LDLNBR</td>\n",
       "      <td>GenderFLG.M</td>\n",
       "      <td>149.312638</td>\n",
       "      <td>0</td>\n",
       "      <td>Python</td>\n",
       "      <td>2017-08-21 18:37:47.419</td>\n",
       "    </tr>\n",
       "    <tr>\n",
       "      <th>2</th>\n",
       "      <td>3</td>\n",
       "      <td>A1CNBR</td>\n",
       "      <td>LDLNBR</td>\n",
       "      <td>GenderFLG.M</td>\n",
       "      <td>150.366739</td>\n",
       "      <td>0</td>\n",
       "      <td>Python</td>\n",
       "      <td>2017-08-21 18:37:47.419</td>\n",
       "    </tr>\n",
       "    <tr>\n",
       "      <th>3</th>\n",
       "      <td>4</td>\n",
       "      <td>A1CNBR</td>\n",
       "      <td>LDLNBR</td>\n",
       "      <td>GenderFLG.M</td>\n",
       "      <td>150.493354</td>\n",
       "      <td>0</td>\n",
       "      <td>Python</td>\n",
       "      <td>2017-08-21 18:37:47.419</td>\n",
       "    </tr>\n",
       "    <tr>\n",
       "      <th>4</th>\n",
       "      <td>5</td>\n",
       "      <td>A1CNBR</td>\n",
       "      <td>LDLNBR</td>\n",
       "      <td>GenderFLG.M</td>\n",
       "      <td>150.663512</td>\n",
       "      <td>0</td>\n",
       "      <td>Python</td>\n",
       "      <td>2017-08-21 18:37:47.419</td>\n",
       "    </tr>\n",
       "  </tbody>\n",
       "</table>\n",
       "</div>"
      ],
      "text/plain": [
       "   PatientEncounterID Factor1TXT Factor2TXT   Factor3TXT  Prediction  \\\n",
       "0                   1     A1CNBR     LDLNBR  GenderFLG.M  150.160964   \n",
       "1                   2     A1CNBR     LDLNBR  GenderFLG.M  149.312638   \n",
       "2                   3     A1CNBR     LDLNBR  GenderFLG.M  150.366739   \n",
       "3                   4     A1CNBR     LDLNBR  GenderFLG.M  150.493354   \n",
       "4                   5     A1CNBR     LDLNBR  GenderFLG.M  150.663512   \n",
       "\n",
       "   BindingID BindingNM              LastLoadDTS  \n",
       "0          0    Python  2017-08-21 18:37:47.419  \n",
       "1          0    Python  2017-08-21 18:37:47.419  \n",
       "2          0    Python  2017-08-21 18:37:47.419  \n",
       "3          0    Python  2017-08-21 18:37:47.419  \n",
       "4          0    Python  2017-08-21 18:37:47.419  "
      ]
     },
     "execution_count": 9,
     "metadata": {},
     "output_type": "execute_result"
    }
   ],
   "source": [
    "trained_linear_model.create_catalyst_dataframe(dataframe).head()"
   ]
  },
  {
   "cell_type": "markdown",
   "metadata": {},
   "source": [
    "You can save the model as a file, and then reload it later on"
   ]
  },
  {
   "cell_type": "code",
   "execution_count": 10,
   "metadata": {},
   "outputs": [
    {
     "name": "stdout",
     "output_type": "stream",
     "text": [
      "Trained LinearRegression model saved as 2017-08-21T12-37-47_regression_LinearRegression.pkl\n"
     ]
    }
   ],
   "source": [
    "trained_linear_model.save()"
   ]
  },
  {
   "cell_type": "code",
   "execution_count": 11,
   "metadata": {},
   "outputs": [
    {
     "name": "stdout",
     "output_type": "stream",
     "text": [
      "Trained model loaded from file: 2017-08-21T12-03-09_regression_LinearRegression.pkl\n",
      "    Type: <class 'healthcareai.trained_models.trained_supervised_model.TrainedSupervisedModel'>\n",
      "    Model type: <class 'sklearn.linear_model.base.LinearRegression'>\n"
     ]
    }
   ],
   "source": [
    "trained_model = file_io_utilities.load_saved_model('2017-08-21T12-03-09_regression_LinearRegression.pkl')"
   ]
  },
  {
   "cell_type": "markdown",
   "metadata": {},
   "source": [
    "## Step 2: Push the predictions onto a database\n",
    "\n",
    "You can push the predictions onto a database with the `predict_to_catalyst_sam` function. If you provide `secure_connection` as True, you won't need to provide your username and password since the database will authenticate you with windows credentials."
   ]
  },
  {
   "cell_type": "code",
   "execution_count": 12,
   "metadata": {},
   "outputs": [
    {
     "name": "stdout",
     "output_type": "stream",
     "text": [
      "\n",
      "Successfully inserted 1000 rows. Dataframe contained 1000 rows\n"
     ]
    }
   ],
   "source": [
    "trained_model.predict_to_catalyst_sam(dataframe, server=\"192.168.86.123\", database=\"SAM\", table=\"HCAIPredictionRegressionBASE\", userid=\"sa\", password=\"yourStrongPassword1234\", secure_connection=False)"
   ]
  },
  {
   "cell_type": "markdown",
   "metadata": {},
   "source": [
    "## Verifying if the data is inserted\n",
    "\n",
    "We will be using a nice tool called DataGrip, and this assumes that you have been using the docker container for MSSQL."
   ]
  },
  {
   "cell_type": "markdown",
   "metadata": {},
   "source": [
    "### Step 1: Right click on the + sign, and create a new data source for SQL Server (Microsoft)\n",
    "\n",
    "<img src=\"./img/example_deployment_01.png\">"
   ]
  },
  {
   "cell_type": "markdown",
   "metadata": {},
   "source": [
    "## Step 2: Enter the username and password with the server as localhost (or any IP that the server is on).\n",
    "\n",
    "The username and password is supplied at https://github.com/HealthCatalyst/healthcareai-py/blob/master/docs/deploy.md\n",
    "\n",
    "<img src=\"./img/example_deployment_02.png\">"
   ]
  },
  {
   "cell_type": "markdown",
   "metadata": {},
   "source": [
    "## Step 3: Press OK, and you will see your database as localhost\n",
    "\n",
    "<img src=\"./img/example_deployment_03.png\">"
   ]
  },
  {
   "cell_type": "markdown",
   "metadata": {},
   "source": [
    "## Step 4: Click on the Schemas tab\n",
    "\n",
    "<img src=\"./img/example_deployment_04.png\">"
   ]
  },
  {
   "cell_type": "markdown",
   "metadata": {},
   "source": [
    "## Step 5: Check the SAM database\n",
    "\n",
    "<img src=\"./img/example_deployment_05.png\">"
   ]
  },
  {
   "cell_type": "markdown",
   "metadata": {},
   "source": [
    "## Step 6: Expand the SAM database check, and then check all schemas\n",
    "\n",
    "<img src=\"./img/example_deployment_06.png\">"
   ]
  },
  {
   "cell_type": "markdown",
   "metadata": {},
   "source": [
    "## Step 7: Select the HCIPredictionRegressionBASE tab and you can see your data successfully pushed\n",
    "\n",
    "<img src=\"./img/example_deployment_07.png\">"
   ]
  },
  {
   "cell_type": "code",
   "execution_count": null,
   "metadata": {
    "collapsed": true
   },
   "outputs": [],
   "source": []
  }
 ],
 "metadata": {
  "kernelspec": {
   "display_name": "Python 3",
   "language": "python",
   "name": "python3"
  },
  "language_info": {
   "codemirror_mode": {
    "name": "ipython",
    "version": 3
   },
   "file_extension": ".py",
   "mimetype": "text/x-python",
   "name": "python",
   "nbconvert_exporter": "python",
   "pygments_lexer": "ipython3",
   "version": "3.6.1"
  }
 },
 "nbformat": 4,
 "nbformat_minor": 2
}
